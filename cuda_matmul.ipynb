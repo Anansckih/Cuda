{
  "nbformat": 4,
  "nbformat_minor": 0,
  "metadata": {
    "accelerator": "GPU",
    "colab": {
      "name": "cuda_matmul.ipynb",
      "provenance": [],
      "collapsed_sections": [
        "YHFv0UqtvAKU",
        "m2eNsRCOvgKc",
        "LTzITynrvuwd",
        "GI1qI5mEuxBc",
        "HJHDd1WjwYHO",
        "OuyfxOSmwf0W",
        "IW8-sLfZwm-4",
        "vhkFmXCLu9QQ"
      ]
    },
    "kernelspec": {
      "display_name": "Python 3",
      "name": "python3"
    }
  },
  "cells": [
    {
      "cell_type": "markdown",
      "metadata": {
        "id": "YHFv0UqtvAKU"
      },
      "source": [
        "#Solve"
      ]
    },
    {
      "cell_type": "markdown",
      "metadata": {
        "id": "m2eNsRCOvgKc"
      },
      "source": [
        "##Required components\r\n"
      ]
    },
    {
      "cell_type": "code",
      "metadata": {
        "colab": {
          "base_uri": "https://localhost:8080/"
        },
        "id": "skLrjh6qoLh1",
        "outputId": "59f18f93-e729-442f-d873-7e5135fe1c2e"
      },
      "source": [
        "!apt-get --purge удалить cuda nvidia * libnvidia-*\r\n",
        "!dpkg-l | grep cuda - / awk ' {print $2}' | xargs-n1 dpkg --purge\r\n",
        "!apt-get remove cuda -*\r\n",
        "!apt autoremove\r\n",
        "!apt-get update"
      ],
      "execution_count": null,
      "outputs": [
        {
          "output_type": "stream",
          "text": [
            "E: Command line option --purge is not understood in combination with the other options\n",
            "/bin/bash: xargs-n1: command not found\n",
            "/bin/bash: dpkg-l: command not found\n",
            "grep: /: Is a directory\n",
            "grep: awk: No such file or directory\n",
            "grep:  {print $2}: No such file or directory\n",
            "E: Command line option '*' [from -*] is not understood in combination with the other options.\n",
            "Reading package lists... Done\n",
            "Building dependency tree       \n",
            "Reading state information... Done\n",
            "0 upgraded, 0 newly installed, 0 to remove and 14 not upgraded.\n",
            "Get:1 https://cloud.r-project.org/bin/linux/ubuntu bionic-cran40/ InRelease [3,626 B]\n",
            "Ign:2 https://developer.download.nvidia.com/compute/cuda/repos/ubuntu1804/x86_64  InRelease\n",
            "Ign:3 https://developer.download.nvidia.com/compute/machine-learning/repos/ubuntu1804/x86_64  InRelease\n",
            "Hit:4 https://developer.download.nvidia.com/compute/cuda/repos/ubuntu1804/x86_64  Release\n",
            "Hit:5 https://developer.download.nvidia.com/compute/machine-learning/repos/ubuntu1804/x86_64  Release\n",
            "Get:6 http://security.ubuntu.com/ubuntu bionic-security InRelease [88.7 kB]\n",
            "Hit:7 http://archive.ubuntu.com/ubuntu bionic InRelease\n",
            "Get:8 http://ppa.launchpad.net/c2d4u.team/c2d4u4.0+/ubuntu bionic InRelease [15.9 kB]\n",
            "Get:9 https://cloud.r-project.org/bin/linux/ubuntu bionic-cran40/ Packages [40.7 kB]\n",
            "Get:10 http://archive.ubuntu.com/ubuntu bionic-updates InRelease [88.7 kB]\n",
            "Get:13 http://ppa.launchpad.net/graphics-drivers/ppa/ubuntu bionic InRelease [21.3 kB]\n",
            "Get:14 http://archive.ubuntu.com/ubuntu bionic-backports InRelease [74.6 kB]\n",
            "Get:15 http://ppa.launchpad.net/c2d4u.team/c2d4u4.0+/ubuntu bionic/main Sources [1,697 kB]\n",
            "Get:16 http://security.ubuntu.com/ubuntu bionic-security/restricted amd64 Packages [237 kB]\n",
            "Get:17 http://archive.ubuntu.com/ubuntu bionic-updates/multiverse amd64 Packages [53.8 kB]\n",
            "Get:18 http://archive.ubuntu.com/ubuntu bionic-updates/main amd64 Packages [2,241 kB]\n",
            "Get:19 http://security.ubuntu.com/ubuntu bionic-security/main amd64 Packages [1,814 kB]\n",
            "Get:20 http://security.ubuntu.com/ubuntu bionic-security/universe amd64 Packages [1,372 kB]\n",
            "Get:21 http://security.ubuntu.com/ubuntu bionic-security/multiverse amd64 Packages [15.3 kB]\n",
            "Get:22 http://archive.ubuntu.com/ubuntu bionic-updates/universe amd64 Packages [2,136 kB]\n",
            "Get:23 http://archive.ubuntu.com/ubuntu bionic-updates/restricted amd64 Packages [266 kB]\n",
            "Get:24 http://ppa.launchpad.net/c2d4u.team/c2d4u4.0+/ubuntu bionic/main amd64 Packages [869 kB]\n",
            "Get:25 http://ppa.launchpad.net/graphics-drivers/ppa/ubuntu bionic/main amd64 Packages [46.5 kB]\n",
            "Fetched 11.1 MB in 3s (3,393 kB/s)\n",
            "Reading package lists... Done\n"
          ],
          "name": "stdout"
        }
      ]
    },
    {
      "cell_type": "code",
      "metadata": {
        "colab": {
          "base_uri": "https://localhost:8080/"
        },
        "id": "JeOFv_GzoP1c",
        "outputId": "7d29c593-8ea7-48dc-c7ed-a9cd25b3fc3e"
      },
      "source": [
        "!wget https:/ /developer.nvidia.com/compute/cuda/9.2/Prod/local_installers/cuda-repo-ubuntu1604-9-2-local_9.2.88-1_amd64 -O cuda-repo-ubuntu1604-9-2-local_9.2.88-1_amd64.deb\r\n",
        "!dpkg-i cuda-repo-ubuntu1604-9-2-local_9.2.88-1_amd64.deb\r\n",
        "!apt-key add /var/cuda-repo-9-2-local/7fa2af80.паб\r\n",
        "!apt-get update\r\n",
        "!apt-get install cuda-9.2"
      ],
      "execution_count": null,
      "outputs": [
        {
          "output_type": "stream",
          "text": [
            "--2020-12-12 13:37:45--  ftp://https//\n",
            "           => ‘.listing’\n",
            "Resolving https (https)... failed: Name or service not known.\n",
            "wget: unable to resolve host address ‘https’\n",
            "/developer.nvidia.com/compute/cuda/9.2/Prod/local_installers/cuda-repo-ubuntu1604-9-2-local_9.2.88-1_amd64: Scheme missing.\n",
            "/bin/bash: dpkg-i: command not found\n",
            "gpg: can't open '/var/cuda-repo-9-2-local/7fa2af80.паб': No such file or directory\n",
            "Hit:1 https://cloud.r-project.org/bin/linux/ubuntu bionic-cran40/ InRelease\n",
            "Ign:2 https://developer.download.nvidia.com/compute/cuda/repos/ubuntu1804/x86_64  InRelease\n",
            "Ign:3 https://developer.download.nvidia.com/compute/machine-learning/repos/ubuntu1804/x86_64  InRelease\n",
            "Hit:4 https://developer.download.nvidia.com/compute/cuda/repos/ubuntu1804/x86_64  Release\n",
            "Hit:5 https://developer.download.nvidia.com/compute/machine-learning/repos/ubuntu1804/x86_64  Release\n",
            "Hit:6 http://security.ubuntu.com/ubuntu bionic-security InRelease\n",
            "Hit:7 http://archive.ubuntu.com/ubuntu bionic InRelease\n",
            "Hit:8 http://ppa.launchpad.net/c2d4u.team/c2d4u4.0+/ubuntu bionic InRelease\n",
            "Hit:10 http://archive.ubuntu.com/ubuntu bionic-updates InRelease\n",
            "Hit:11 http://archive.ubuntu.com/ubuntu bionic-backports InRelease\n",
            "Hit:13 http://ppa.launchpad.net/graphics-drivers/ppa/ubuntu bionic InRelease\n",
            "Reading package lists... Done\n",
            "Reading package lists... Done\n",
            "Building dependency tree       \n",
            "Reading state information... Done\n",
            "Note, selecting 'libcuda-9.2-1' for regex 'cuda-9.2'\n",
            "0 upgraded, 0 newly installed, 0 to remove and 36 not upgraded.\n"
          ],
          "name": "stdout"
        }
      ]
    },
    {
      "cell_type": "code",
      "metadata": {
        "colab": {
          "base_uri": "https://localhost:8080/"
        },
        "id": "gt-C3kmF1ZRN",
        "outputId": "8b2a1043-60bb-4ff8-e83c-b3bc8501393d"
      },
      "source": [
        "!pip install git+git://github.com/andreinechaev/nvcc4jupyter.git"
      ],
      "execution_count": null,
      "outputs": [
        {
          "output_type": "stream",
          "text": [
            "Collecting git+git://github.com/andreinechaev/nvcc4jupyter.git\n",
            "  Cloning git://github.com/andreinechaev/nvcc4jupyter.git to /tmp/pip-req-build-6hahkfj3\n",
            "  Running command git clone -q git://github.com/andreinechaev/nvcc4jupyter.git /tmp/pip-req-build-6hahkfj3\n",
            "Building wheels for collected packages: NVCCPlugin\n",
            "  Building wheel for NVCCPlugin (setup.py) ... \u001b[?25l\u001b[?25hdone\n",
            "  Created wheel for NVCCPlugin: filename=NVCCPlugin-0.0.2-cp36-none-any.whl size=4308 sha256=923f73cd105996c4e10fdfeef5570c79a79ca8b86f8becd9bdff196ef88af37d\n",
            "  Stored in directory: /tmp/pip-ephem-wheel-cache-eub0mud2/wheels/10/c2/05/ca241da37bff77d60d31a9174f988109c61ba989e4d4650516\n",
            "Successfully built NVCCPlugin\n",
            "Installing collected packages: NVCCPlugin\n",
            "Successfully installed NVCCPlugin-0.0.2\n"
          ],
          "name": "stdout"
        }
      ]
    },
    {
      "cell_type": "code",
      "metadata": {
        "colab": {
          "base_uri": "https://localhost:8080/"
        },
        "id": "pY5tLeK_1fJM",
        "outputId": "98c88761-fabf-4760-bec4-10ad96de6db5"
      },
      "source": [
        "%load_ext nvcc_plugin"
      ],
      "execution_count": null,
      "outputs": [
        {
          "output_type": "stream",
          "text": [
            "created output directory at /content/src\n",
            "Out bin /content/result.out\n"
          ],
          "name": "stdout"
        }
      ]
    },
    {
      "cell_type": "code",
      "metadata": {
        "colab": {
          "base_uri": "https://localhost:8080/"
        },
        "id": "YoTqRt6LmON4",
        "outputId": "4ad02c7c-f9c5-468d-c465-df4a2e157315"
      },
      "source": [
        "%reload_ext nvcc_plugin"
      ],
      "execution_count": null,
      "outputs": [
        {
          "output_type": "stream",
          "text": [
            "directory /content/src already exists\n",
            "Out bin /content/result.out\n"
          ],
          "name": "stdout"
        }
      ]
    },
    {
      "cell_type": "code",
      "metadata": {
        "colab": {
          "base_uri": "https://localhost:8080/"
        },
        "id": "3PJVl9BA1iDE",
        "outputId": "dcd77646-9557-4072-b7a0-0e2438e14fd9"
      },
      "source": [
        "!nvcc --version"
      ],
      "execution_count": null,
      "outputs": [
        {
          "output_type": "stream",
          "text": [
            "nvcc: NVIDIA (R) Cuda compiler driver\n",
            "Copyright (c) 2005-2019 NVIDIA Corporation\n",
            "Built on Sun_Jul_28_19:07:16_PDT_2019\n",
            "Cuda compilation tools, release 10.1, V10.1.243\n"
          ],
          "name": "stdout"
        }
      ]
    },
    {
      "cell_type": "markdown",
      "metadata": {
        "id": "LTzITynrvuwd"
      },
      "source": [
        "##Solve"
      ]
    },
    {
      "cell_type": "code",
      "metadata": {
        "colab": {
          "base_uri": "https://localhost:8080/"
        },
        "id": "alRh6OVg1sYS",
        "outputId": "ffa3daeb-d4c7-4235-d00d-d7b81e3164c6"
      },
      "source": [
        "%%cu\r\n",
        "#include <stdio.h>\r\n",
        "#include <iostream>\r\n",
        "#include <cuda.h>\r\n",
        "#define N 10\r\n",
        "\r\n",
        "__global__ void gpu(int *first, int *second, int *ans) \r\n",
        "{\r\n",
        "  int x = blockIdx.x;\r\n",
        "  int y = blockIdx.y;\r\n",
        "  ans[N * y + x] = 0;\r\n",
        "  for (int z = 0; z < N; z++)\r\n",
        "  {\r\n",
        "      ans[N * y + x] += first[N * y + z] * second[N * z + x];\r\n",
        "  }    \r\n",
        "}\r\n",
        "\r\n",
        "void cpu(int first[N][N], int second[N][N], int ans[N][N])\r\n",
        "{\r\n",
        "    for (int i = 0; i < N; i++) {\r\n",
        "        for (int j = 0; j < N; j++) {\r\n",
        "            ans[i][j] = 0;\r\n",
        "            for (int z = 0; z < N; z++)\r\n",
        "                ans[i][j] += first[i][z] * second[z][j];\r\n",
        "        }\r\n",
        "    }\r\n",
        "}\r\n",
        "\r\n",
        "\r\n",
        "int main() \r\n",
        "{\r\n",
        " \r\n",
        " int size = N*N*sizeof(int) ;\r\n",
        " int a[N][N]; //создание 3х матриц на хосте\r\n",
        " int b[N][N];\r\n",
        " int c[N][N]; \r\n",
        " int *d_a, *d_b, *d_c; //копия матриц на девайсе\r\n",
        "\r\n",
        " for (int i = 0; i < N; i++) \r\n",
        " {\r\n",
        "    for (int j = 0; j < N; j++) \r\n",
        "    {\r\n",
        "      a[i][j] = rand() %10 + 1;\r\n",
        "      b[i][j] = rand() %10 + 1;\r\n",
        "      c[i][j] = 0;\r\n",
        "    }\r\n",
        " }\r\n",
        "\r\n",
        " cudaMalloc((void **)&d_a, size); \r\n",
        " cudaMalloc((void **)&d_b, size);\r\n",
        " cudaMalloc((void **)&d_c, size);\r\n",
        "\r\n",
        " cudaEvent_t start, stop; \r\n",
        " cudaEventCreate(&start);\r\n",
        " cudaEventCreate(&stop);  \r\n",
        "\r\n",
        " cudaMemcpy(d_a, a, size, cudaMemcpyHostToDevice);\r\n",
        " cudaMemcpy(d_b, b, size, cudaMemcpyHostToDevice);\r\n",
        "\r\n",
        " dim3 grid(N,N);\r\n",
        " \r\n",
        " cudaEventRecord(start);\r\n",
        " \r\n",
        " gpu <<<grid,1>>> (d_a,d_b,d_c);\r\n",
        " \r\n",
        " cudaEventRecord(stop);\r\n",
        "\r\n",
        " cudaMemcpy(c, d_c, size, cudaMemcpyDeviceToHost);\r\n",
        " \r\n",
        " cudaEventSynchronize(stop);\r\n",
        " float milliseconds = 0;\r\n",
        " cudaEventElapsedTime(&milliseconds, start, stop);\r\n",
        " printf(\"GPU\\n\");\r\n",
        " printf(\"%f\\n\", milliseconds);\r\n",
        "\r\n",
        "for (int i = 0; i < N; i++) \r\n",
        " {\r\n",
        "    for (int j = 0; j < N; j++) \r\n",
        "    {\r\n",
        "      printf(\"%d\\t\",c[i][j]);\r\n",
        "    }\r\n",
        "   printf(\"\\n\");\r\n",
        " }\r\n",
        " printf(\"\\n\");\r\n",
        " cudaFree(d_a); \r\n",
        " cudaFree(d_b); \r\n",
        " cudaFree(d_c);\r\n",
        " \r\n",
        " cudaEvent_t start1, stop1;\r\n",
        " cudaEventCreate(&start1);\r\n",
        " cudaEventCreate(&stop1);\r\n",
        " cudaEventRecord(start1);\r\n",
        " \r\n",
        " cpu(a,b,c); \r\n",
        " \r\n",
        " cudaEventRecord(stop1);\r\n",
        " cudaEventSynchronize(stop1);\r\n",
        " float milliseconds1 = 0;\r\n",
        " cudaEventElapsedTime(&milliseconds1, start1, stop1);\r\n",
        " \r\n",
        " printf( \"CPU\\n\");\r\n",
        " printf(\"%f\", milliseconds1);\r\n",
        "\r\n",
        "\r\n",
        " printf(\"\\n\"); \r\n",
        " \r\n",
        " for (int i = 0; i < N; i++) \r\n",
        " {\r\n",
        "    for (int j = 0; j < N; j++) \r\n",
        "    {\r\n",
        "      printf(\"%d\\t\",c[i][j]);\r\n",
        "    }\r\n",
        "   printf(\"\\n\");\r\n",
        " }\r\n",
        "\r\n",
        "return 0;\r\n",
        "}"
      ],
      "execution_count": null,
      "outputs": [
        {
          "output_type": "stream",
          "text": [
            "GPU\n",
            "0.025600\n",
            "284\t401\t229\t212\t280\t233\t290\t259\t247\t263\t\n",
            "288\t486\t248\t245\t305\t314\t283\t262\t304\t350\t\n",
            "295\t468\t327\t269\t296\t364\t320\t327\t270\t338\t\n",
            "291\t448\t262\t242\t263\t321\t278\t282\t257\t288\t\n",
            "390\t576\t343\t305\t339\t422\t361\t362\t299\t373\t\n",
            "340\t514\t319\t274\t321\t350\t334\t319\t279\t335\t\n",
            "344\t571\t323\t253\t363\t389\t295\t311\t297\t442\t\n",
            "349\t449\t269\t224\t298\t321\t330\t268\t258\t339\t\n",
            "377\t518\t284\t237\t337\t389\t365\t353\t320\t413\t\n",
            "370\t624\t347\t308\t396\t423\t353\t375\t355\t454\t\n",
            "\n",
            "CPU\n",
            "0.005856\n",
            "284\t401\t229\t212\t280\t233\t290\t259\t247\t263\t\n",
            "288\t486\t248\t245\t305\t314\t283\t262\t304\t350\t\n",
            "295\t468\t327\t269\t296\t364\t320\t327\t270\t338\t\n",
            "291\t448\t262\t242\t263\t321\t278\t282\t257\t288\t\n",
            "390\t576\t343\t305\t339\t422\t361\t362\t299\t373\t\n",
            "340\t514\t319\t274\t321\t350\t334\t319\t279\t335\t\n",
            "344\t571\t323\t253\t363\t389\t295\t311\t297\t442\t\n",
            "349\t449\t269\t224\t298\t321\t330\t268\t258\t339\t\n",
            "377\t518\t284\t237\t337\t389\t365\t353\t320\t413\t\n",
            "370\t624\t347\t308\t396\t423\t353\t375\t355\t454\t\n",
            "\n"
          ],
          "name": "stdout"
        }
      ]
    },
    {
      "cell_type": "markdown",
      "metadata": {
        "id": "7ain-yVMwGQJ"
      },
      "source": [
        "Matrices equal"
      ]
    },
    {
      "cell_type": "markdown",
      "metadata": {
        "id": "GI1qI5mEuxBc"
      },
      "source": [
        "#Time it (dont look here)"
      ]
    },
    {
      "cell_type": "markdown",
      "metadata": {
        "id": "KGwpt1V6yfvV"
      },
      "source": [
        "More than N=800 colab do not calculate"
      ]
    },
    {
      "cell_type": "markdown",
      "metadata": {
        "id": "HJHDd1WjwYHO"
      },
      "source": [
        "##100"
      ]
    },
    {
      "cell_type": "code",
      "metadata": {
        "colab": {
          "base_uri": "https://localhost:8080/"
        },
        "id": "dx9nCFFGu0VJ",
        "outputId": "5bff7284-68d5-488b-da4d-b5e2d04cc969"
      },
      "source": [
        "%%cu\r\n",
        "#include <stdio.h>\r\n",
        "#include <iostream>\r\n",
        "#include <cuda.h>\r\n",
        "#define N 100\r\n",
        "\r\n",
        "__global__ void gpu(int *first, int *second, int *ans) \r\n",
        "{\r\n",
        "  int x = blockIdx.x;\r\n",
        "  int y = blockIdx.y;\r\n",
        "  ans[N * y + x] = 0;\r\n",
        "  for (int z = 0; z < N; z++)\r\n",
        "  {\r\n",
        "      ans[N * y + x] += first[N * y + z] * second[N * z + x];\r\n",
        "  }    \r\n",
        "}\r\n",
        "\r\n",
        "void cpu(int first[N][N], int second[N][N], int ans[N][N])\r\n",
        "{\r\n",
        "    for (int i = 0; i < N; i++) {\r\n",
        "        for (int j = 0; j < N; j++) {\r\n",
        "            ans[i][j] = 0;\r\n",
        "            for (int z = 0; z < N; z++)\r\n",
        "                ans[i][j] += first[i][z] * second[z][j];\r\n",
        "        }\r\n",
        "    }\r\n",
        "}\r\n",
        "\r\n",
        "\r\n",
        "int main() \r\n",
        "{\r\n",
        " \r\n",
        " int size = N*N*sizeof(int) ;\r\n",
        " int a[N][N]; //создание 3х матриц на хосте\r\n",
        " int b[N][N];\r\n",
        " int c[N][N]; \r\n",
        " int *d_a, *d_b, *d_c; //копия матриц на девайсе\r\n",
        "\r\n",
        " for (int i = 0; i < N; i++) \r\n",
        " {\r\n",
        "    for (int j = 0; j < N; j++) \r\n",
        "    {\r\n",
        "      a[i][j] = rand() %10 + 1;\r\n",
        "      b[i][j] = rand() %10 + 1;\r\n",
        "      c[i][j] = 0;\r\n",
        "    }\r\n",
        " }\r\n",
        "\r\n",
        " cudaMalloc((void **)&d_a, size); \r\n",
        " cudaMalloc((void **)&d_b, size);\r\n",
        " cudaMalloc((void **)&d_c, size);\r\n",
        "\r\n",
        " cudaEvent_t start, stop; \r\n",
        " cudaEventCreate(&start);\r\n",
        " cudaEventCreate(&stop);  \r\n",
        "\r\n",
        " cudaMemcpy(d_a, a, size, cudaMemcpyHostToDevice);\r\n",
        " cudaMemcpy(d_b, b, size, cudaMemcpyHostToDevice);\r\n",
        "\r\n",
        " dim3 grid(N,N);\r\n",
        " \r\n",
        " cudaEventRecord(start);\r\n",
        " \r\n",
        " gpu <<<grid,1>>> (d_a,d_b,d_c);\r\n",
        " \r\n",
        " cudaEventRecord(stop);\r\n",
        "\r\n",
        " cudaMemcpy(c, d_c, size, cudaMemcpyDeviceToHost);\r\n",
        " \r\n",
        " cudaEventSynchronize(stop);\r\n",
        " float milliseconds = 0;\r\n",
        " cudaEventElapsedTime(&milliseconds, start, stop);\r\n",
        " printf(\"GPU\\n\");\r\n",
        " printf(\"%f\\n\", milliseconds);\r\n",
        " cudaFree(d_a); \r\n",
        " cudaFree(d_b); \r\n",
        " cudaFree(d_c);\r\n",
        " \r\n",
        " cudaEvent_t start1, stop1;\r\n",
        " cudaEventCreate(&start1);\r\n",
        " cudaEventCreate(&stop1);\r\n",
        " cudaEventRecord(start1);\r\n",
        " \r\n",
        " cpu(a,b,c); \r\n",
        " \r\n",
        " cudaEventRecord(stop1);\r\n",
        " cudaEventSynchronize(stop1);\r\n",
        " float milliseconds1 = 0;\r\n",
        " cudaEventElapsedTime(&milliseconds1, start1, stop1);\r\n",
        " \r\n",
        " printf( \"CPU\\n\");\r\n",
        " printf(\"%f\", milliseconds1);\r\n",
        "return 0;\r\n",
        "}"
      ],
      "execution_count": null,
      "outputs": [
        {
          "output_type": "stream",
          "text": [
            "GPU\n",
            "0.347136\n",
            "CPU\n",
            "5.836416\n"
          ],
          "name": "stdout"
        }
      ]
    },
    {
      "cell_type": "markdown",
      "metadata": {
        "id": "OuyfxOSmwf0W"
      },
      "source": [
        "##500"
      ]
    },
    {
      "cell_type": "code",
      "metadata": {
        "colab": {
          "base_uri": "https://localhost:8080/"
        },
        "id": "k5Oh4lRRwbgv",
        "outputId": "b8c22231-8bd6-4317-8707-e2b9d75990e3"
      },
      "source": [
        "%%cu\r\n",
        "#include <stdio.h>\r\n",
        "#include <iostream>\r\n",
        "#include <cuda.h>\r\n",
        "#define N 500\r\n",
        "\r\n",
        "__global__ void gpu(int *first, int *second, int *ans) \r\n",
        "{\r\n",
        "  int x = blockIdx.x;\r\n",
        "  int y = blockIdx.y;\r\n",
        "  ans[N * y + x] = 0;\r\n",
        "  for (int z = 0; z < N; z++)\r\n",
        "  {\r\n",
        "      ans[N * y + x] += first[N * y + z] * second[N * z + x];\r\n",
        "  }    \r\n",
        "}\r\n",
        "\r\n",
        "void cpu(int first[N][N], int second[N][N], int ans[N][N])\r\n",
        "{\r\n",
        "    for (int i = 0; i < N; i++) {\r\n",
        "        for (int j = 0; j < N; j++) {\r\n",
        "            ans[i][j] = 0;\r\n",
        "            for (int z = 0; z < N; z++)\r\n",
        "                ans[i][j] += first[i][z] * second[z][j];\r\n",
        "        }\r\n",
        "    }\r\n",
        "}\r\n",
        "\r\n",
        "\r\n",
        "int main() \r\n",
        "{\r\n",
        " \r\n",
        " int size = N*N*sizeof(int) ;\r\n",
        " int a[N][N]; //создание 3х матриц на хосте\r\n",
        " int b[N][N];\r\n",
        " int c[N][N]; \r\n",
        " int *d_a, *d_b, *d_c; //копия матриц на девайсе\r\n",
        "\r\n",
        " for (int i = 0; i < N; i++) \r\n",
        " {\r\n",
        "    for (int j = 0; j < N; j++) \r\n",
        "    {\r\n",
        "      a[i][j] = rand() %10 + 1;\r\n",
        "      b[i][j] = rand() %10 + 1;\r\n",
        "      c[i][j] = 0;\r\n",
        "    }\r\n",
        " }\r\n",
        "\r\n",
        " cudaMalloc((void **)&d_a, size); \r\n",
        " cudaMalloc((void **)&d_b, size);\r\n",
        " cudaMalloc((void **)&d_c, size);\r\n",
        "\r\n",
        " cudaEvent_t start, stop; \r\n",
        " cudaEventCreate(&start);\r\n",
        " cudaEventCreate(&stop);  \r\n",
        "\r\n",
        " cudaMemcpy(d_a, a, size, cudaMemcpyHostToDevice);\r\n",
        " cudaMemcpy(d_b, b, size, cudaMemcpyHostToDevice);\r\n",
        "\r\n",
        " dim3 grid(N,N);\r\n",
        " \r\n",
        " cudaEventRecord(start);\r\n",
        " \r\n",
        " gpu <<<grid,1>>> (d_a,d_b,d_c);\r\n",
        " \r\n",
        " cudaEventRecord(stop);\r\n",
        "\r\n",
        " cudaMemcpy(c, d_c, size, cudaMemcpyDeviceToHost);\r\n",
        " \r\n",
        " cudaEventSynchronize(stop);\r\n",
        " float milliseconds = 0;\r\n",
        " cudaEventElapsedTime(&milliseconds, start, stop);\r\n",
        " printf(\"GPU\\n\");\r\n",
        " printf(\"%f\\n\", milliseconds);\r\n",
        " cudaFree(d_a); \r\n",
        " cudaFree(d_b); \r\n",
        " cudaFree(d_c);\r\n",
        " \r\n",
        " cudaEvent_t start1, stop1;\r\n",
        " cudaEventCreate(&start1);\r\n",
        " cudaEventCreate(&stop1);\r\n",
        " cudaEventRecord(start1);\r\n",
        " \r\n",
        " cpu(a,b,c); \r\n",
        " \r\n",
        " cudaEventRecord(stop1);\r\n",
        " cudaEventSynchronize(stop1);\r\n",
        " float milliseconds1 = 0;\r\n",
        " cudaEventElapsedTime(&milliseconds1, start1, stop1);\r\n",
        " \r\n",
        " printf( \"CPU\\n\");\r\n",
        " printf(\"%f\", milliseconds1);\r\n",
        "return 0;\r\n",
        "}"
      ],
      "execution_count": null,
      "outputs": [
        {
          "output_type": "stream",
          "text": [
            "GPU\n",
            "66.781822\n",
            "CPU\n",
            "601.689270\n"
          ],
          "name": "stdout"
        }
      ]
    },
    {
      "cell_type": "markdown",
      "metadata": {
        "id": "IW8-sLfZwm-4"
      },
      "source": [
        "##800"
      ]
    },
    {
      "cell_type": "code",
      "metadata": {
        "colab": {
          "base_uri": "https://localhost:8080/"
        },
        "id": "tcAqdL2Zwvdo",
        "outputId": "b9e4a553-c154-4acd-88be-eb4b6b29a779"
      },
      "source": [
        "%%cu\r\n",
        "#include <stdio.h>\r\n",
        "#include <iostream>\r\n",
        "#include <cuda.h>\r\n",
        "#define N 800\r\n",
        "\r\n",
        "__global__ void gpu(int *first, int *second, int *ans) \r\n",
        "{\r\n",
        "  int x = blockIdx.x;\r\n",
        "  int y = blockIdx.y;\r\n",
        "  ans[N * y + x] = 0;\r\n",
        "  for (int z = 0; z < N; z++)\r\n",
        "  {\r\n",
        "      ans[N * y + x] += first[N * y + z] * second[N * z + x];\r\n",
        "  }    \r\n",
        "}\r\n",
        "\r\n",
        "void cpu(int first[N][N], int second[N][N], int ans[N][N])\r\n",
        "{\r\n",
        "    for (int i = 0; i < N; i++) {\r\n",
        "        for (int j = 0; j < N; j++) {\r\n",
        "            ans[i][j] = 0;\r\n",
        "            for (int z = 0; z < N; z++)\r\n",
        "                ans[i][j] += first[i][z] * second[z][j];\r\n",
        "        }\r\n",
        "    }\r\n",
        "}\r\n",
        "\r\n",
        "\r\n",
        "int main() \r\n",
        "{\r\n",
        " \r\n",
        " int size = N*N*sizeof(int) ;\r\n",
        " int a[N][N]; //создание 3х матриц на хосте\r\n",
        " int b[N][N];\r\n",
        " int c[N][N]; \r\n",
        " int *d_a, *d_b, *d_c; //копия матриц на девайсе\r\n",
        "\r\n",
        " for (int i = 0; i < N; i++) \r\n",
        " {\r\n",
        "    for (int j = 0; j < N; j++) \r\n",
        "    {\r\n",
        "      a[i][j] = rand() %10 + 1;\r\n",
        "      b[i][j] = rand() %10 + 1;\r\n",
        "      c[i][j] = 0;\r\n",
        "    }\r\n",
        " }\r\n",
        "\r\n",
        " cudaMalloc((void **)&d_a, size); \r\n",
        " cudaMalloc((void **)&d_b, size);\r\n",
        " cudaMalloc((void **)&d_c, size);\r\n",
        "\r\n",
        " cudaEvent_t start, stop; \r\n",
        " cudaEventCreate(&start);\r\n",
        " cudaEventCreate(&stop);  \r\n",
        "\r\n",
        " cudaMemcpy(d_a, a, size, cudaMemcpyHostToDevice);\r\n",
        " cudaMemcpy(d_b, b, size, cudaMemcpyHostToDevice);\r\n",
        "\r\n",
        " dim3 grid(N,N);\r\n",
        " \r\n",
        " cudaEventRecord(start);\r\n",
        " \r\n",
        " gpu <<<grid,1>>> (d_a,d_b,d_c);\r\n",
        " \r\n",
        " cudaEventRecord(stop);\r\n",
        "\r\n",
        " cudaMemcpy(c, d_c, size, cudaMemcpyDeviceToHost);\r\n",
        " \r\n",
        " cudaEventSynchronize(stop);\r\n",
        " float milliseconds = 0;\r\n",
        " cudaEventElapsedTime(&milliseconds, start, stop);\r\n",
        " printf(\"GPU\\n\");\r\n",
        " printf(\"%f\\n\", milliseconds);\r\n",
        " cudaFree(d_a); \r\n",
        " cudaFree(d_b); \r\n",
        " cudaFree(d_c);\r\n",
        " \r\n",
        " cudaEvent_t start1, stop1;\r\n",
        " cudaEventCreate(&start1);\r\n",
        " cudaEventCreate(&stop1);\r\n",
        " cudaEventRecord(start1);\r\n",
        " \r\n",
        " cpu(a,b,c); \r\n",
        " \r\n",
        " cudaEventRecord(stop1);\r\n",
        " cudaEventSynchronize(stop1);\r\n",
        " float milliseconds1 = 0;\r\n",
        " cudaEventElapsedTime(&milliseconds1, start1, stop1);\r\n",
        " \r\n",
        " printf( \"CPU\\n\");\r\n",
        " printf(\"%f\", milliseconds1);\r\n",
        "return 0;\r\n",
        "}"
      ],
      "execution_count": null,
      "outputs": [
        {
          "output_type": "stream",
          "text": [
            "GPU\n",
            "257.416107\n",
            "CPU\n",
            "3606.538574\n"
          ],
          "name": "stdout"
        }
      ]
    },
    {
      "cell_type": "markdown",
      "metadata": {
        "id": "vhkFmXCLu9QQ"
      },
      "source": [
        "#Graph"
      ]
    },
    {
      "cell_type": "code",
      "metadata": {
        "colab": {
          "base_uri": "https://localhost:8080/",
          "height": 279
        },
        "id": "oKqdKghLu6uO",
        "outputId": "f75ed4b0-afa6-4c3c-9c88-f8e5c11c060e"
      },
      "source": [
        "import matplotlib.pyplot as plt\r\n",
        "\r\n",
        "N = [10,100,500,800]\r\n",
        "gpu = [0.020960, 0.339968, 66.390404, 243.964478]\r\n",
        "cpu = [0.006144, 5.328384, 546.905701, 3250.069824]\r\n",
        "plt.plot(N, gpu ,label = 'GPU')\r\n",
        "plt.plot(N, cpu, label = 'CPU')\r\n",
        "plt.xlabel(\"N\")\r\n",
        "plt.ylabel(\"Время в милисекундах\")\r\n",
        "plt.legend(loc = 'center')\r\n",
        "\r\n",
        "plt.show()"
      ],
      "execution_count": null,
      "outputs": [
        {
          "output_type": "display_data",
          "data": {
            "image/png": "[encoded data removed]",
            "text/plain": [
              "<Figure size 432x288 with 1 Axes>"
            ]
          },
          "metadata": {
            "tags": [],
            "needs_background": "light"
          }
        }
      ]
    },
    {
      "cell_type": "code",
      "metadata": {
        "id": "ZUoBnJs9xeH0"
      },
      "source": [
        ""
      ],
      "execution_count": null,
      "outputs": []
    }
  ]
}